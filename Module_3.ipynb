{
  "nbformat": 4,
  "nbformat_minor": 0,
  "metadata": {
    "colab": {
      "provenance": []
    },
    "kernelspec": {
      "name": "python3",
      "display_name": "Python 3"
    },
    "language_info": {
      "name": "python"
    }
  },
  "cells": [
    {
      "cell_type": "code",
      "execution_count": null,
      "metadata": {
        "id": "F0q6dSLbDsJg"
      },
      "outputs": [],
      "source": []
    },
    {
      "cell_type": "markdown",
      "source": [
        " 1. What is Python, and why is it popular?\n",
        "    - Python is a programming language that is easy to understand and write. It is a popular choice among developers and programmers due to its large library and community.\n",
        " 2. What is an interpreter in Python?\n",
        "    - A Python interpreter is a program that converts Python code into machine language and runs a program.\n",
        " 3. What are pre-defined keywords in Python?\n",
        "    - Predefined keywords are reserved words that have specific meanings.\n",
        " 4. Can keywords be used as variable names?\n",
        "    - No, keywords can not be used as variable names. Keywords have some specific meaning and purpose.\n",
        " 5. What is mutability in Python?\n",
        "    - Mutable means something changeable. Variable whose values can be changed after they are created and assigned. Example - list, dictionary, set\n",
        " 6. Why are lists mutable, but tuples are immutable?\n",
        "    - List and Tupel are very similar but once tuples are create or assign they remain unchanged whereas lists values can be changeable.\n",
        " 7. What is the difference between “==” and “is” operators in Python?\n",
        "    - \"==\" and \"is\" both are use to compare. \"==\" operators compare that two object are equal and \"is\" operater compare two object indentity.\n",
        " 8. What are logical operators in Python?\n",
        "    - \"AND\" , \"OR\" , \"NOT\" are logical operators in Python.\n",
        " 9. What is type casting in Python?\n",
        "    - type casting is a funcation return the type of value a variable hold.\n",
        " 10. What is the difference between implicit and explicit type casting?\n",
        "    - Implicit type casting is automatic type conversion that converts one data type to another. Explicit type casting is a conversion done by the programmer.\n",
        " 11. What is the purpose of conditional statements in Python?\n",
        "    - Conditional statements are used to control the flow of execution of a program, depending upon the condition.\n",
        " 12. How does the elif statement work?\n",
        "    - elif means else if , it is used when the first if statement false, the next is checked and so on.\n",
        " 13. What is the difference between for and while loops?\n",
        "    - for loops are called definite loops because statements are executed for a definite number of times. while loops are called indefinite loops because statements are executed until a logical condition remains true.\n",
        " 14. Describe a scenario where a while loop is more suitable than a for loop.\n",
        "    - when the number of iterations define use for loop. when the number of iterations is not define use while loop.\n"
      ],
      "metadata": {
        "id": "2M89Z00gD4U_"
      }
    },
    {
      "cell_type": "code",
      "source": [
        "#1 Write a Python program to print \"Hello, World!\"\n",
        "print(\"Hello, World!\")"
      ],
      "metadata": {
        "colab": {
          "base_uri": "https://localhost:8080/"
        },
        "id": "7ZDe60Q7eNFc",
        "outputId": "ac71c663-a78c-4ac3-a0b0-5bb715b3c882"
      },
      "execution_count": null,
      "outputs": [
        {
          "output_type": "stream",
          "name": "stdout",
          "text": [
            "Hello, World!\n"
          ]
        }
      ]
    },
    {
      "cell_type": "code",
      "source": [
        "#2 Write a Python program that displays your name and age.\n",
        "name = \"Sukomal\"\n",
        "age = 36\n",
        "print(f\"My name is {name} and I am {age} year old.\")"
      ],
      "metadata": {
        "id": "KODLNO0xe2eJ"
      },
      "execution_count": null,
      "outputs": []
    },
    {
      "cell_type": "code",
      "source": [
        "#3 Write code to print all the pre-defined keywords in Python using the keyword library.\n",
        "import keyword\n",
        "key=keyword.kwlist\n",
        "print(\"pre-defined keywords\")\n",
        "for pre_kw in key:\n",
        "  print(pre_kw)\n"
      ],
      "metadata": {
        "id": "Czxa1pzlfQIL"
      },
      "execution_count": null,
      "outputs": []
    },
    {
      "cell_type": "code",
      "source": [
        "#4 Write a program that checks if a given word is a Python keyword.\n",
        "import keyword\n",
        "def python_keyword():\n",
        "  word=input(\"Enter the Python keyword\")\n",
        "  if keyword.iskeyword(word):\n",
        "    print('{word}' \" is python keyword\")\n",
        "  else:\n",
        "    print('{word}' \" is not python keyword\")\n",
        "if __name__ == \"__Main__\":\n",
        "  python_keyword()\n"
      ],
      "metadata": {
        "id": "tP6jYS1Fir33"
      },
      "execution_count": null,
      "outputs": []
    },
    {
      "cell_type": "code",
      "source": [
        "# 5 Create a list and tuple in Python, and demonstrate how attempting to change\n",
        "# an element works differently for each.\n",
        "list = [10,20,30]\n",
        "print(\"list before change\",list)\n",
        "list[0]=100\n",
        "print(\"list after change\",list)\n",
        "\n",
        "tuple = (1,5,\"PWSkill\")\n",
        "print(tuple)\n",
        "tuple[0]=100"
      ],
      "metadata": {
        "id": "ZypSb6FQmeUb"
      },
      "execution_count": null,
      "outputs": []
    },
    {
      "cell_type": "code",
      "source": [
        "#6 Write a function to demonstrate the behavior of mutable and immutable arguments.\n",
        "list = [10,20,30]\n",
        "print(\"Mutable list before change\",list)\n",
        "list[0]=100\n",
        "print(\"Mutable list after change\",list)\n",
        "\n",
        "tuple = (1,5,\"PWSkill\")\n",
        "print(\"immutable tuple\"tuple)\n",
        "tuple[0]=100\n"
      ],
      "metadata": {
        "id": "P-zK25WBpyDL"
      },
      "execution_count": null,
      "outputs": []
    },
    {
      "cell_type": "code",
      "source": [
        "# 7 Write a program that performs basic arithmetic operations on two user-input\n",
        "# numbers.\n",
        "a = int(input(\"Enter first number\"))\n",
        "b = int(input(\"Enter second number\"))\n",
        "print(\"Addition\",a+b)\n",
        "print(\"Subtraction\",a-b)\n",
        "print(\"Multiply\",a*b)\n",
        "print(\"Division\",a/b)\n",
        "print(\"Floor diviosion\",a//b)\n",
        "print(\"Modulas\",a%b)\n",
        "print(\"Exponentiation\",a**b)"
      ],
      "metadata": {
        "id": "giQuH4GeSf58"
      },
      "execution_count": null,
      "outputs": []
    },
    {
      "cell_type": "code",
      "source": [
        "#8 Write a program to demonstrate the use of logical operators.\n",
        "print(\"AND Logical Operators\")\n",
        "age = 25\n",
        "\n",
        "if age >= 18 and age <= 60:\n",
        "    print(\"You are eligible to vote and work.\")\n",
        "else:\n",
        "    print(\"You are not eligible to vote or work.\")\n",
        "print(\"OR Logical Operators\")\n",
        "name = \"Alex\"\n",
        "age = 0\n",
        "\n",
        "if name == \"Alex\" or name == \"John\" and age >= 2:\n",
        "    print(\"Hello! Welcome.\")\n",
        "else:\n",
        "    print(\"Good Bye!!\")"
      ],
      "metadata": {
        "id": "u0XdYQP3XBot"
      },
      "execution_count": null,
      "outputs": []
    },
    {
      "cell_type": "code",
      "source": [
        "from ctypes import c_char\n",
        "# 9 Write a Python program to convert user input from string to integer, float,\n",
        "# and boolean types.\n",
        "num = input(\"Enter any number\")\n",
        "print(type(num))\n",
        "\n",
        "print(int(num))\n",
        "print(type(int(num)))\n",
        "\n",
        "print(float(num))\n",
        "print(type(float(num)))\n",
        "\n",
        "print(str(num))\n",
        "print(type(str(num)))\n"
      ],
      "metadata": {
        "id": "tRmSHpuJdg4s"
      },
      "execution_count": null,
      "outputs": []
    },
    {
      "cell_type": "code",
      "source": [
        "#10 Write code to demonstrate type casting with list elements.\n",
        "my_list = (1,2,3,4,5)\n",
        "c=\"hello\"\n",
        "result=list(my_list)\n",
        "print(result)\n",
        "print(list(c))"
      ],
      "metadata": {
        "id": "o3uKbzN3gDgt"
      },
      "execution_count": null,
      "outputs": []
    },
    {
      "cell_type": "code",
      "source": [
        "#11 Write a program that checks if a number is positive, negative, or zero.\n",
        "n = -1\n",
        "if n > 0:\n",
        "  print(\"Positive\")\n",
        "elif n < 0 :\n",
        "  print(\"Negative\")\n",
        "else:\n",
        "  print(\"zero\")\n"
      ],
      "metadata": {
        "id": "XBaRcejyoEH7"
      },
      "execution_count": null,
      "outputs": []
    },
    {
      "cell_type": "code",
      "source": [
        "#12 Write a for loop to print numbers from 1 to 10.\n",
        "for i in range (1,11):\n",
        "  print(i)"
      ],
      "metadata": {
        "id": "0t6kQtB9vrb1"
      },
      "execution_count": null,
      "outputs": []
    },
    {
      "cell_type": "code",
      "source": [
        "#13 Write a Python program to find the sum of all even numbers between 1 and 50.\n",
        "n=0\n",
        "for i in range(1,51):\n",
        "  if(i %2==0):\n",
        "    #print(i)\n",
        "    n=n+i\n",
        "\n",
        "print(\"the sum of all even numbers between 1 and 50\",n)\n",
        "\n",
        "n=0\n",
        "for i in range(1,50):\n",
        "  #print(i)\n",
        "  n=n+i\n",
        "\n",
        "\n",
        "print(\"the sum of all numbers between 1 and 50\",n)"
      ],
      "metadata": {
        "id": "-5rI_yHQw2QO"
      },
      "execution_count": null,
      "outputs": []
    },
    {
      "cell_type": "code",
      "source": [
        "#14 Write a program to reverse a string using a while loop.\n",
        "a = \"hello\"\n",
        "\n",
        "b = ''\n",
        "i = len(a) - 1\n",
        "\n",
        "while(i >= 0):\n",
        "    b = b + a[i]\n",
        "    i = i - 1\n",
        "\n",
        "print(\"The Original string = \", a)\n",
        "print(\"The Inverted string = \", b)"
      ],
      "metadata": {
        "id": "4Q_4fsn_0RG-"
      },
      "execution_count": null,
      "outputs": []
    },
    {
      "cell_type": "code",
      "source": [
        "#15 Write a Python program to calculate the factorial of a number provided by\n",
        "# the user using a while loop.\n",
        "num = int(input(\"enter a number: \"))\n",
        "\n",
        "fac = 1\n",
        "i = 1\n",
        "\n",
        "while i <= num:\n",
        "\tfac = fac * i\n",
        "\ti = i + 1\n",
        "\n",
        "print(\"factorial of \", num, \" is \", fac)"
      ],
      "metadata": {
        "id": "FTMMxBb-4gvY"
      },
      "execution_count": null,
      "outputs": []
    }
  ]
}